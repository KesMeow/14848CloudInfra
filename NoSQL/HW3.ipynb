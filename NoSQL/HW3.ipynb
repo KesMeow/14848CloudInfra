{
 "cells": [
  {
   "cell_type": "code",
   "execution_count": 1,
   "source": [
    "import boto3"
   ],
   "outputs": [],
   "metadata": {}
  },
  {
   "cell_type": "code",
   "execution_count": 2,
   "source": [
    "AWS_KEY_ID = 'AWS KEY'\n",
    "AWS_SECRET = 'SECRET'\n",
    "s3 = boto3.resource('s3', aws_access_key_id = AWS_KEY_ID,\n",
    "                    aws_secret_access_key = AWS_SECRET)"
   ],
   "outputs": [],
   "metadata": {}
  },
  {
   "cell_type": "code",
   "execution_count": 3,
   "source": [
    "try:\n",
    "    s3.create_bucket(Bucket='kesterzhou14848hw3', CreateBucketConfiguration={'LocationConstraint': 'us-west-2'})\n",
    "except Exception as e:\n",
    "    print(e)\n",
    "    \n",
    "bucket = s3.Bucket(\"kesterzhou14848hw3\")\n",
    "bucket.Acl().put(ACL='public-read')"
   ],
   "outputs": [
    {
     "output_type": "stream",
     "name": "stdout",
     "text": [
      "An error occurred (BucketAlreadyOwnedByYou) when calling the CreateBucket operation: Your previous request to create the named bucket succeeded and you already own it.\n"
     ]
    },
    {
     "output_type": "execute_result",
     "data": {
      "text/plain": [
       "{'ResponseMetadata': {'RequestId': 'R8ZXNQ4Q2WKDRDA0',\n",
       "  'HostId': 'dxZpKCyzVtZL+VjEH7ebwPLPvgZh1jiYGH+6YtlycnCrX1MB8x0vI5Mr6Eri8jCGb7d4fwCWNfQ=',\n",
       "  'HTTPStatusCode': 200,\n",
       "  'HTTPHeaders': {'x-amz-id-2': 'dxZpKCyzVtZL+VjEH7ebwPLPvgZh1jiYGH+6YtlycnCrX1MB8x0vI5Mr6Eri8jCGb7d4fwCWNfQ=',\n",
       "   'x-amz-request-id': 'R8ZXNQ4Q2WKDRDA0',\n",
       "   'date': 'Fri, 15 Oct 2021 19:45:19 GMT',\n",
       "   'server': 'AmazonS3',\n",
       "   'content-length': '0'},\n",
       "  'RetryAttempts': 0}}"
      ]
     },
     "metadata": {},
     "execution_count": 3
    }
   ],
   "metadata": {}
  },
  {
   "cell_type": "code",
   "execution_count": 4,
   "source": [
    "s3.Object('kesterzhou14848hw3', 'boyo.jpg').put(Body=open('boyo.jpg', 'rb'))\n",
    "s3.Object('kesterzhou14848hw3','boyo.jpg').Acl().put(ACL='public-read')\n"
   ],
   "outputs": [
    {
     "output_type": "execute_result",
     "data": {
      "text/plain": [
       "{'ResponseMetadata': {'RequestId': 'QXWMPPJ8JXYJ7BNQ',\n",
       "  'HostId': 'MVbT7u9xuyU0GixjQEtpbu4A0SH5rh58tJAxvWjglEciw0AD1VKT331aEGktnWkK7i9beOP5Z5E=',\n",
       "  'HTTPStatusCode': 200,\n",
       "  'HTTPHeaders': {'x-amz-id-2': 'MVbT7u9xuyU0GixjQEtpbu4A0SH5rh58tJAxvWjglEciw0AD1VKT331aEGktnWkK7i9beOP5Z5E=',\n",
       "   'x-amz-request-id': 'QXWMPPJ8JXYJ7BNQ',\n",
       "   'date': 'Fri, 15 Oct 2021 19:45:21 GMT',\n",
       "   'server': 'AmazonS3',\n",
       "   'content-length': '0'},\n",
       "  'RetryAttempts': 0}}"
      ]
     },
     "metadata": {},
     "execution_count": 4
    }
   ],
   "metadata": {}
  },
  {
   "cell_type": "code",
   "execution_count": 13,
   "source": [
    "# Now we create the DynamoDB table, first we create the resource\n",
    "dyndb = boto3.resource('dynamodb',\n",
    "region_name='us-west-2', aws_access_key_id=AWS_KEY_ID, aws_secret_access_key=AWS_SECRET )"
   ],
   "outputs": [],
   "metadata": {}
  },
  {
   "cell_type": "code",
   "execution_count": 14,
   "source": [
    "try:\n",
    "\n",
    "    table = dyndb.create_table(\n",
    "    TableName='DataTable', KeySchema=[ { 'AttributeName': 'PartitionKey', 'KeyType': 'HASH' }, { 'AttributeName': 'RowKey', 'KeyType': 'RANGE' }\n",
    "        ], \n",
    "        AttributeDefinitions=[\n",
    "            { \n",
    "                'AttributeName': 'PartitionKey', \n",
    "                'AttributeType': 'S' \n",
    "            }, \n",
    "            {\n",
    "                'AttributeName': 'RowKey',\n",
    "        'AttributeType': 'S' },\n",
    "        ], \n",
    "        ProvisionedThroughput={\n",
    "        'ReadCapacityUnits': 5,\n",
    "        'WriteCapacityUnits': 5 \n",
    "        }\n",
    "    ) \n",
    "\n",
    "except Exception as e:\n",
    "    print (e)\n",
    "    \n",
    "    #if there is an exception, the table may already exist. \n",
    "    table = dyndb.Table(\"DataTable\")"
   ],
   "outputs": [],
   "metadata": {}
  },
  {
   "cell_type": "code",
   "execution_count": 15,
   "source": [
    "#wait for the table to be created \n",
    "table.meta.client.get_waiter('table_exists').wait(TableName='DataTable')"
   ],
   "outputs": [],
   "metadata": {}
  },
  {
   "cell_type": "code",
   "execution_count": 16,
   "source": [
    "print(table.item_count)"
   ],
   "outputs": [
    {
     "output_type": "stream",
     "name": "stdout",
     "text": [
      "0\n"
     ]
    }
   ],
   "metadata": {}
  },
  {
   "cell_type": "code",
   "execution_count": 17,
   "source": [
    "import csv"
   ],
   "outputs": [],
   "metadata": {}
  },
  {
   "cell_type": "code",
   "execution_count": 31,
   "source": [
    "with open('experiments.csv', 'rt', encoding = \"utf-8\") as csvfile:\n",
    "    csvf = csv.reader(csvfile, delimiter=',', quotechar='|')\n",
    "    next(csvf)\n",
    "    for item in csvf:\n",
    "        print(item)\n",
    "        body = open(item[4], 'rb')\n",
    "        s3.Object('kesterzhou14848hw3', item[4]).put(Body=body )\n",
    "        md = s3.Object('kesterzhou14848hw3', item[4]).Acl().put(ACL='public-read')\n",
    "        url = \" https://s3-us-west-2.amazonaws.com/kesterzhou14848hw3/\"+item[4]\n",
    "        metadata_item = {'PartitionKey': item[4], 'RowKey': item[0],\n",
    "        'description' : item[4], 'date' : item[2], 'url':url}\n",
    "\n",
    "        try:\n",
    "            table.put_item(Item=metadata_item) \n",
    "        except:\n",
    "            print(\"item may already be there or another failure\")"
   ],
   "outputs": [
    {
     "output_type": "stream",
     "name": "stdout",
     "text": [
      "['1', '-1', '52', '3.4', 'exp1.csv']\n",
      "['2', '-2', '52.1', '3.4', 'exp2.csv']\n",
      "['3', '-2.93', '57.1', '3.7', 'exp3.csv']\n"
     ]
    }
   ],
   "metadata": {}
  },
  {
   "cell_type": "code",
   "execution_count": 32,
   "source": [
    "response = table.get_item( Key={ 'PartitionKey': 'exp1.csv', 'RowKey': '1' } ) \n",
    "item = response['Item'] \n",
    "print(item)"
   ],
   "outputs": [
    {
     "output_type": "stream",
     "name": "stdout",
     "text": [
      "{'PartitionKey': 'exp1.csv', 'RowKey': '1', 'date': '52', 'description': 'exp1.csv', 'url': ' https://s3-us-west-2.amazonaws.com/kesterzhou14848hw3/exp1.csv'}\n"
     ]
    }
   ],
   "metadata": {}
  },
  {
   "cell_type": "code",
   "execution_count": 33,
   "source": [
    "response"
   ],
   "outputs": [
    {
     "output_type": "execute_result",
     "data": {
      "text/plain": [
       "{'Item': {'PartitionKey': 'exp1.csv',\n",
       "  'RowKey': '1',\n",
       "  'date': '52',\n",
       "  'description': 'exp1.csv',\n",
       "  'url': ' https://s3-us-west-2.amazonaws.com/kesterzhou14848hw3/exp1.csv'},\n",
       " 'ResponseMetadata': {'RequestId': 'PI1RBHQRLQMBL6IA1J3458713RVV4KQNSO5AEMVJF66Q9ASUAAJG',\n",
       "  'HTTPStatusCode': 200,\n",
       "  'HTTPHeaders': {'server': 'Server',\n",
       "   'date': 'Fri, 15 Oct 2021 20:32:21 GMT',\n",
       "   'content-type': 'application/x-amz-json-1.0',\n",
       "   'content-length': '188',\n",
       "   'connection': 'keep-alive',\n",
       "   'x-amzn-requestid': 'PI1RBHQRLQMBL6IA1J3458713RVV4KQNSO5AEMVJF66Q9ASUAAJG',\n",
       "   'x-amz-crc32': '1259132623'},\n",
       "  'RetryAttempts': 0}}"
      ]
     },
     "metadata": {},
     "execution_count": 33
    }
   ],
   "metadata": {}
  },
  {
   "cell_type": "code",
   "execution_count": null,
   "source": [],
   "outputs": [],
   "metadata": {}
  }
 ],
 "metadata": {
  "kernelspec": {
   "display_name": "Python 3 (ipykernel)",
   "language": "python",
   "name": "python3"
  },
  "language_info": {
   "codemirror_mode": {
    "name": "ipython",
    "version": 3
   },
   "file_extension": ".py",
   "mimetype": "text/x-python",
   "name": "python",
   "nbconvert_exporter": "python",
   "pygments_lexer": "ipython3",
   "version": "3.9.2"
  }
 },
 "nbformat": 4,
 "nbformat_minor": 5
}